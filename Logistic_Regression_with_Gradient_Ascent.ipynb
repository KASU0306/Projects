{
 "cells": [
  {
   "cell_type": "markdown",
   "id": "a0f1fd6c",
   "metadata": {},
   "source": [
    "Dataset preprocessing\n"
   ]
  },
  {
   "cell_type": "markdown",
   "id": "d33c2287",
   "metadata": {},
   "source": [
    "All necessary modules are imported and the \"tic-tac-toe.data\" is read using pd.read_csv"
   ]
  },
  {
   "cell_type": "code",
   "execution_count": 96,
   "id": "dc2d6444",
   "metadata": {},
   "outputs": [
    {
     "data": {
      "text/html": [
       "<div>\n",
       "<style scoped>\n",
       "    .dataframe tbody tr th:only-of-type {\n",
       "        vertical-align: middle;\n",
       "    }\n",
       "\n",
       "    .dataframe tbody tr th {\n",
       "        vertical-align: top;\n",
       "    }\n",
       "\n",
       "    .dataframe thead th {\n",
       "        text-align: right;\n",
       "    }\n",
       "</style>\n",
       "<table border=\"1\" class=\"dataframe\">\n",
       "  <thead>\n",
       "    <tr style=\"text-align: right;\">\n",
       "      <th></th>\n",
       "      <th>top-left-square</th>\n",
       "      <th>top-middle-square</th>\n",
       "      <th>top-right-square</th>\n",
       "      <th>middle-left-square</th>\n",
       "      <th>middle-middle-square</th>\n",
       "      <th>middle-right-square</th>\n",
       "      <th>bottom-left-square</th>\n",
       "      <th>bottom-middle-square</th>\n",
       "      <th>bottom-right-square</th>\n",
       "      <th>Class</th>\n",
       "    </tr>\n",
       "  </thead>\n",
       "  <tbody>\n",
       "    <tr>\n",
       "      <th>0</th>\n",
       "      <td>x</td>\n",
       "      <td>x</td>\n",
       "      <td>x</td>\n",
       "      <td>x</td>\n",
       "      <td>o</td>\n",
       "      <td>o</td>\n",
       "      <td>x</td>\n",
       "      <td>o</td>\n",
       "      <td>o</td>\n",
       "      <td>positive</td>\n",
       "    </tr>\n",
       "    <tr>\n",
       "      <th>1</th>\n",
       "      <td>x</td>\n",
       "      <td>x</td>\n",
       "      <td>x</td>\n",
       "      <td>x</td>\n",
       "      <td>o</td>\n",
       "      <td>o</td>\n",
       "      <td>o</td>\n",
       "      <td>x</td>\n",
       "      <td>o</td>\n",
       "      <td>positive</td>\n",
       "    </tr>\n",
       "    <tr>\n",
       "      <th>2</th>\n",
       "      <td>x</td>\n",
       "      <td>x</td>\n",
       "      <td>x</td>\n",
       "      <td>x</td>\n",
       "      <td>o</td>\n",
       "      <td>o</td>\n",
       "      <td>o</td>\n",
       "      <td>o</td>\n",
       "      <td>x</td>\n",
       "      <td>positive</td>\n",
       "    </tr>\n",
       "    <tr>\n",
       "      <th>3</th>\n",
       "      <td>x</td>\n",
       "      <td>x</td>\n",
       "      <td>x</td>\n",
       "      <td>x</td>\n",
       "      <td>o</td>\n",
       "      <td>o</td>\n",
       "      <td>o</td>\n",
       "      <td>b</td>\n",
       "      <td>b</td>\n",
       "      <td>positive</td>\n",
       "    </tr>\n",
       "    <tr>\n",
       "      <th>4</th>\n",
       "      <td>x</td>\n",
       "      <td>x</td>\n",
       "      <td>x</td>\n",
       "      <td>x</td>\n",
       "      <td>o</td>\n",
       "      <td>o</td>\n",
       "      <td>b</td>\n",
       "      <td>o</td>\n",
       "      <td>b</td>\n",
       "      <td>positive</td>\n",
       "    </tr>\n",
       "  </tbody>\n",
       "</table>\n",
       "</div>"
      ],
      "text/plain": [
       "  top-left-square top-middle-square top-right-square middle-left-square  \\\n",
       "0               x                 x                x                  x   \n",
       "1               x                 x                x                  x   \n",
       "2               x                 x                x                  x   \n",
       "3               x                 x                x                  x   \n",
       "4               x                 x                x                  x   \n",
       "\n",
       "  middle-middle-square middle-right-square bottom-left-square  \\\n",
       "0                    o                   o                  x   \n",
       "1                    o                   o                  o   \n",
       "2                    o                   o                  o   \n",
       "3                    o                   o                  o   \n",
       "4                    o                   o                  b   \n",
       "\n",
       "  bottom-middle-square bottom-right-square     Class  \n",
       "0                    o                   o  positive  \n",
       "1                    x                   o  positive  \n",
       "2                    o                   x  positive  \n",
       "3                    b                   b  positive  \n",
       "4                    o                   b  positive  "
      ]
     },
     "execution_count": 96,
     "metadata": {},
     "output_type": "execute_result"
    }
   ],
   "source": [
    "import pandas as pd\n",
    "import numpy as np\n",
    "from matplotlib import pyplot as plt\n",
    "from numpy.linalg import inv\n",
    "np.random.seed(3116)\n",
    "\n",
    "col_names=['top-left-square','top-middle-square','top-right-square','middle-left-square','middle-middle-square','middle-right-square',\n",
    "    'bottom-left-square','bottom-middle-square','bottom-right-square','Class']\n",
    "\n",
    "tic_df= pd.read_csv(\"tic-tac-toe.data\",sep=\",\",names=col_names)\n",
    "tic_df.head()"
   ]
  },
  {
   "cell_type": "markdown",
   "id": "9ac1b78d",
   "metadata": {},
   "source": [
    "**1. Convert any non-numeric values to numeric values. For example you can replace a country name\n",
    "with an integer value or more appropriately use hot-one encoding. [Hint: use hashmap (dict) or\n",
    "pandas.get_dummies]. Please explain your solution.**\n",
    "\n",
    "**Approach:**<br>\n",
    "1)Here i used pd.get_dummies for converting non numeric to numeric:<br>\n",
    "2)This created 2 columns at last. i.e \"Class_negative\" and \"Class_positive\". The \"Class_negative\" can be droppedand \"Class_positive\" can be used as target column\n"
   ]
  },
  {
   "cell_type": "code",
   "execution_count": 97,
   "id": "8ef5679e",
   "metadata": {},
   "outputs": [
    {
     "data": {
      "text/html": [
       "<div>\n",
       "<style scoped>\n",
       "    .dataframe tbody tr th:only-of-type {\n",
       "        vertical-align: middle;\n",
       "    }\n",
       "\n",
       "    .dataframe tbody tr th {\n",
       "        vertical-align: top;\n",
       "    }\n",
       "\n",
       "    .dataframe thead th {\n",
       "        text-align: right;\n",
       "    }\n",
       "</style>\n",
       "<table border=\"1\" class=\"dataframe\">\n",
       "  <thead>\n",
       "    <tr style=\"text-align: right;\">\n",
       "      <th></th>\n",
       "      <th>top-left-square_b</th>\n",
       "      <th>top-left-square_o</th>\n",
       "      <th>top-left-square_x</th>\n",
       "      <th>top-middle-square_b</th>\n",
       "      <th>top-middle-square_o</th>\n",
       "      <th>top-middle-square_x</th>\n",
       "      <th>top-right-square_b</th>\n",
       "      <th>top-right-square_o</th>\n",
       "      <th>top-right-square_x</th>\n",
       "      <th>middle-left-square_b</th>\n",
       "      <th>...</th>\n",
       "      <th>bottom-left-square_o</th>\n",
       "      <th>bottom-left-square_x</th>\n",
       "      <th>bottom-middle-square_b</th>\n",
       "      <th>bottom-middle-square_o</th>\n",
       "      <th>bottom-middle-square_x</th>\n",
       "      <th>bottom-right-square_b</th>\n",
       "      <th>bottom-right-square_o</th>\n",
       "      <th>bottom-right-square_x</th>\n",
       "      <th>Class_negative</th>\n",
       "      <th>Class_positive</th>\n",
       "    </tr>\n",
       "  </thead>\n",
       "  <tbody>\n",
       "    <tr>\n",
       "      <th>0</th>\n",
       "      <td>0</td>\n",
       "      <td>0</td>\n",
       "      <td>1</td>\n",
       "      <td>0</td>\n",
       "      <td>0</td>\n",
       "      <td>1</td>\n",
       "      <td>0</td>\n",
       "      <td>0</td>\n",
       "      <td>1</td>\n",
       "      <td>0</td>\n",
       "      <td>...</td>\n",
       "      <td>0</td>\n",
       "      <td>1</td>\n",
       "      <td>0</td>\n",
       "      <td>1</td>\n",
       "      <td>0</td>\n",
       "      <td>0</td>\n",
       "      <td>1</td>\n",
       "      <td>0</td>\n",
       "      <td>0</td>\n",
       "      <td>1</td>\n",
       "    </tr>\n",
       "    <tr>\n",
       "      <th>1</th>\n",
       "      <td>0</td>\n",
       "      <td>0</td>\n",
       "      <td>1</td>\n",
       "      <td>0</td>\n",
       "      <td>0</td>\n",
       "      <td>1</td>\n",
       "      <td>0</td>\n",
       "      <td>0</td>\n",
       "      <td>1</td>\n",
       "      <td>0</td>\n",
       "      <td>...</td>\n",
       "      <td>1</td>\n",
       "      <td>0</td>\n",
       "      <td>0</td>\n",
       "      <td>0</td>\n",
       "      <td>1</td>\n",
       "      <td>0</td>\n",
       "      <td>1</td>\n",
       "      <td>0</td>\n",
       "      <td>0</td>\n",
       "      <td>1</td>\n",
       "    </tr>\n",
       "    <tr>\n",
       "      <th>2</th>\n",
       "      <td>0</td>\n",
       "      <td>0</td>\n",
       "      <td>1</td>\n",
       "      <td>0</td>\n",
       "      <td>0</td>\n",
       "      <td>1</td>\n",
       "      <td>0</td>\n",
       "      <td>0</td>\n",
       "      <td>1</td>\n",
       "      <td>0</td>\n",
       "      <td>...</td>\n",
       "      <td>1</td>\n",
       "      <td>0</td>\n",
       "      <td>0</td>\n",
       "      <td>1</td>\n",
       "      <td>0</td>\n",
       "      <td>0</td>\n",
       "      <td>0</td>\n",
       "      <td>1</td>\n",
       "      <td>0</td>\n",
       "      <td>1</td>\n",
       "    </tr>\n",
       "    <tr>\n",
       "      <th>3</th>\n",
       "      <td>0</td>\n",
       "      <td>0</td>\n",
       "      <td>1</td>\n",
       "      <td>0</td>\n",
       "      <td>0</td>\n",
       "      <td>1</td>\n",
       "      <td>0</td>\n",
       "      <td>0</td>\n",
       "      <td>1</td>\n",
       "      <td>0</td>\n",
       "      <td>...</td>\n",
       "      <td>1</td>\n",
       "      <td>0</td>\n",
       "      <td>1</td>\n",
       "      <td>0</td>\n",
       "      <td>0</td>\n",
       "      <td>1</td>\n",
       "      <td>0</td>\n",
       "      <td>0</td>\n",
       "      <td>0</td>\n",
       "      <td>1</td>\n",
       "    </tr>\n",
       "    <tr>\n",
       "      <th>4</th>\n",
       "      <td>0</td>\n",
       "      <td>0</td>\n",
       "      <td>1</td>\n",
       "      <td>0</td>\n",
       "      <td>0</td>\n",
       "      <td>1</td>\n",
       "      <td>0</td>\n",
       "      <td>0</td>\n",
       "      <td>1</td>\n",
       "      <td>0</td>\n",
       "      <td>...</td>\n",
       "      <td>0</td>\n",
       "      <td>0</td>\n",
       "      <td>0</td>\n",
       "      <td>1</td>\n",
       "      <td>0</td>\n",
       "      <td>1</td>\n",
       "      <td>0</td>\n",
       "      <td>0</td>\n",
       "      <td>0</td>\n",
       "      <td>1</td>\n",
       "    </tr>\n",
       "  </tbody>\n",
       "</table>\n",
       "<p>5 rows × 29 columns</p>\n",
       "</div>"
      ],
      "text/plain": [
       "   top-left-square_b  top-left-square_o  top-left-square_x  \\\n",
       "0                  0                  0                  1   \n",
       "1                  0                  0                  1   \n",
       "2                  0                  0                  1   \n",
       "3                  0                  0                  1   \n",
       "4                  0                  0                  1   \n",
       "\n",
       "   top-middle-square_b  top-middle-square_o  top-middle-square_x  \\\n",
       "0                    0                    0                    1   \n",
       "1                    0                    0                    1   \n",
       "2                    0                    0                    1   \n",
       "3                    0                    0                    1   \n",
       "4                    0                    0                    1   \n",
       "\n",
       "   top-right-square_b  top-right-square_o  top-right-square_x  \\\n",
       "0                   0                   0                   1   \n",
       "1                   0                   0                   1   \n",
       "2                   0                   0                   1   \n",
       "3                   0                   0                   1   \n",
       "4                   0                   0                   1   \n",
       "\n",
       "   middle-left-square_b  ...  bottom-left-square_o  bottom-left-square_x  \\\n",
       "0                     0  ...                     0                     1   \n",
       "1                     0  ...                     1                     0   \n",
       "2                     0  ...                     1                     0   \n",
       "3                     0  ...                     1                     0   \n",
       "4                     0  ...                     0                     0   \n",
       "\n",
       "   bottom-middle-square_b  bottom-middle-square_o  bottom-middle-square_x  \\\n",
       "0                       0                       1                       0   \n",
       "1                       0                       0                       1   \n",
       "2                       0                       1                       0   \n",
       "3                       1                       0                       0   \n",
       "4                       0                       1                       0   \n",
       "\n",
       "   bottom-right-square_b  bottom-right-square_o  bottom-right-square_x  \\\n",
       "0                      0                      1                      0   \n",
       "1                      0                      1                      0   \n",
       "2                      0                      0                      1   \n",
       "3                      1                      0                      0   \n",
       "4                      1                      0                      0   \n",
       "\n",
       "   Class_negative  Class_positive  \n",
       "0               0               1  \n",
       "1               0               1  \n",
       "2               0               1  \n",
       "3               0               1  \n",
       "4               0               1  \n",
       "\n",
       "[5 rows x 29 columns]"
      ]
     },
     "execution_count": 97,
     "metadata": {},
     "output_type": "execute_result"
    }
   ],
   "source": [
    "tic_df=pd.get_dummies(tic_df)\n",
    "tic_df.head()"
   ]
  },
  {
   "cell_type": "code",
   "execution_count": 98,
   "id": "691c8a67",
   "metadata": {},
   "outputs": [
    {
     "data": {
      "text/plain": [
       "(958, 28)"
      ]
     },
     "execution_count": 98,
     "metadata": {},
     "output_type": "execute_result"
    }
   ],
   "source": [
    "# dropping \"Class_negative\"\n",
    "tic_df.drop(columns = 'Class_negative',inplace=True)\n",
    "tic_df.shape"
   ]
  },
  {
   "cell_type": "markdown",
   "id": "325555e0",
   "metadata": {},
   "source": [
    "#### Ex0_2. This dataset is unbalanced, (show how we can confirm this). Explain what is stratified samplin and Implement a stratified sampler.\n",
    "\n",
    "#### Ex0_3 Split the data into a train(80%) and test(20%).\n",
    "\n",
    "**Unbalanced**<br>\n",
    "1) I counted the each class using .value_counts()<br>\n",
    "2) The positive class count is double almost double to that of negative class.Therefore the dataset is unbalanced<br>\n",
    "\n",
    "**Stratified sampling and splitting**<br>\n",
    "1) In straified sampling, the data is split such that, ration of class1 to class 2 is same in all splits to that of in the main data frame.<br>\n",
    "2) For this I grouped the the data frame based on 'Class_positive' column. Then from each class, I took 80% of the instances using \".sample(0.8*total numbe of samples)\". This resulted in \"train\" data frame and it is shuffled.<br>\n",
    "3) Then test data is obtained by dropping the indexes of train data in main data frame. This results in test data that contains 20% of the data maintining the stratified sampling condition.<br>\n",
    "4) class\"0\" to class \"1\" ratios of main_df,train_df,test_df are 0.530, 0.5309 -- 0.528 which are almost same satisfying the stratified sampling property.<Br>\n",
    "5) This is helpful in unbalanced datasets\n",
    "\n",
    "Ref_for_stratified_sampling:\n",
    "https://www.statology.org/stratified-sampling-pandas/"
   ]
  },
  {
   "cell_type": "code",
   "execution_count": 99,
   "id": "20264946",
   "metadata": {},
   "outputs": [
    {
     "name": "stdout",
     "output_type": "stream",
     "text": [
      "1    626\n",
      "0    332\n",
      "Name: Class_positive, dtype: int64\n",
      "Positive class is almost double to the negative. Hence the data set is unbalancced\n"
     ]
    }
   ],
   "source": [
    "# Unbalanced dataset\n",
    "print(tic_df['Class_positive'].value_counts())\n",
    "print(\"Positive class is almost double to the negative. Hence the data set is unbalancced\")"
   ]
  },
  {
   "cell_type": "code",
   "execution_count": 100,
   "id": "6ed5f005",
   "metadata": {},
   "outputs": [],
   "source": [
    "# Stratified ssampling\n",
    "# Grouped by class\n",
    "tic_grouped=tic_df.groupby('Class_positive', group_keys=False)\n",
    "train=tic_grouped.apply(lambda x: x.sample(int(round(0.8*len(x),0)))) #splitting 80 percent data group wise\n",
    "train=train.sample(frac=1)\n",
    "test=tic_df.drop(train.index)   # geting 20% data by dropping train data in main df"
   ]
  },
  {
   "cell_type": "code",
   "execution_count": 102,
   "id": "1aa5ca01",
   "metadata": {},
   "outputs": [
    {
     "name": "stdout",
     "output_type": "stream",
     "text": [
      "negative_class to positive class ratios of main_df,train_df,test_df\n",
      "0.5303514376996805 -- 0.530938123752495 -- 0.528\n"
     ]
    }
   ],
   "source": [
    "tic_count=tic_df['Class_positive'].value_counts()\n",
    "train_count=train['Class_positive'].value_counts()\n",
    "test_count=test['Class_positive'].value_counts()\n",
    "print(\"negative_class to positive class ratios of main_df,train_df,test_df\")\n",
    "print(332/626, \"--\",train_count[0]/train_count[1],\"--\",test_count[0]/test_count[1])"
   ]
  },
  {
   "cell_type": "markdown",
   "id": "3cfdf322",
   "metadata": {},
   "source": [
    "#### Splitting train and test data into features and targets:\n",
    "1)Defined a function \"train_test_split\" for preparing xdata and ydata<br>\n",
    "2)From train and test, xdata is prepared by dropping the target coloumn i.e 'Class'<br>\n",
    "3)Y data is prepared by selecting target 'Class_positive'.<br>\n",
    "4)Converted to numpy and bias of ones is added infront of xdata<br>\n",
    "4)The shapes are printed out"
   ]
  },
  {
   "cell_type": "code",
   "execution_count": 103,
   "id": "be42ac6d",
   "metadata": {},
   "outputs": [
    {
     "name": "stdout",
     "output_type": "stream",
     "text": [
      "(767, 28) (191, 28) (767, 1) (191, 1)\n"
     ]
    }
   ],
   "source": [
    "# function for splitting xdata and ydata\n",
    "def train_test_split(train,test):\n",
    "    x_train = train.iloc[:,:-1]\n",
    "    y_train = train.iloc[:,-1]\n",
    "\n",
    "    x_test = test.iloc[:,:-1]\n",
    "    y_test = test.iloc[:,-1]\n",
    "\n",
    "\n",
    "    x_train =x_train.to_numpy()\n",
    "    x_test=x_test.to_numpy()\n",
    "    y_train=y_train.to_numpy()\n",
    "    y_test=y_test.to_numpy()\n",
    "    y_train=y_train.reshape(-1,1)\n",
    "    y_test=y_test.reshape(-1,1)\n",
    "    \n",
    "  #converting df into arrays \n",
    "    ones_train= np.ones((x_train.shape[0],1))\n",
    "    ones_test= np.ones((x_test.shape[0],1)) \n",
    "    \n",
    "  #adding bias to xdata\n",
    "    x_train =np.concatenate((ones_train,x_train),axis=1)\n",
    "    x_test=np.concatenate((ones_test,x_test),axis=1)\n",
    "    \n",
    "    return x_train,x_test,y_train,y_test\n",
    "\n",
    "\n",
    "x_train,x_test,y_train,y_test=train_test_split(train,test)\n",
    "print(x_train.shape,x_test.shape,y_train.shape,y_test.shape)\n"
   ]
  },
  {
   "cell_type": "markdown",
   "id": "0c3a5ea9",
   "metadata": {},
   "source": [
    "## Logistic Regression with Gradient Ascent"
   ]
  },
  {
   "cell_type": "markdown",
   "id": "21032523",
   "metadata": {},
   "source": [
    "$\\hat{y}^{n}=\\sigma\\left(\\beta^{T} \\mathbf{x}^{n}\\right)$ where sigma= $\\frac{1}{1+c^{-\\beta^{2}} \\times^{n}}$\n",
    "\n",
    "\n",
    "$\\log L_{\\mathcal{D}}^{\\text {cond }}(\\hat{\\beta})=\\sum_{n=1}^{N} y_{n} \\log \\hat{y}_{n}+\\left(1-y_{n}\\right) \\log \\left(1-\\hat{y}_{n}\\right)$"
   ]
  },
  {
   "cell_type": "markdown",
   "id": "4a464b6f",
   "metadata": {},
   "source": [
    "**Approach**<BR>\n",
    "I created functions for y_hat, gradient and loglikelihhod as per the given formulas. To get the log loss on test data,negated the loglikelihood.<br>\n"
   ]
  },
  {
   "cell_type": "code",
   "execution_count": 259,
   "id": "21ebd10c",
   "metadata": {},
   "outputs": [],
   "source": [
    "def grad(x,y,betas):\n",
    "    return x.T@(y-y_hat(x,betas))\n",
    "def y_hat(x,betas):\n",
    "    return 1 / (1 + np.exp(-(x@betas)))\n",
    "def loglikelihood(y,yhat):\n",
    "    return np.sum(y*np.log(yhat) + (1-y)*np.log(1-yhat))\n",
    "##logloss is  the negative of log likelihood\n",
    "def log_loss(y,yhat):\n",
    "    return -loglikelihood(y,yhat)"
   ]
  },
  {
   "attachments": {
    "D2.png": {
     "image/png": "[encoded data removed]"
    }
   },
   "cell_type": "markdown",
   "id": "73a2d388",
   "metadata": {},
   "source": [
    "### bolddriver function\n",
    "\n",
    "![D2.png](attachment:D2.png)\n",
    "\n",
    "1) The bolddriver function is defined as per the above alogorithm. <br>\n",
    "2)But only difference is here we are using gradient ascent. Therefore $d:=\\nabla f(x)$ is used.<br>\n",
    "3)we will try to maximize the loglikelihhood. we will reduce steplength mu unitll we get new loglikelihood greater than the old one. i.e f2>f1<Br>"
   ]
  },
  {
   "cell_type": "code",
   "execution_count": 260,
   "id": "4c6b4820",
   "metadata": {},
   "outputs": [],
   "source": [
    "def bolddriver(x,y,betas,mu):\n",
    "    mu_plus,mu_minus = 1.1,0.5\n",
    "    mu = mu*mu_plus\n",
    "    \n",
    "    y_hat_1 = y_hat(x,betas)\n",
    "    f1=loglikelihood(y,y_hat_1)\n",
    "    \n",
    "    betas_2= betas + mu*grad(x,y,betas)  \n",
    "    y_hat_2 = y_hat(x,betas_2)\n",
    "    f2=loglikelihood(y,y_hat_2)\n",
    "    \n",
    "    while f1-f2 >= 0: \n",
    "        mu = mu_minus*mu\n",
    "        betas_2 = betas + mu*grad(x,y,betas)  \n",
    "        y_hat_2 = y_hat(x,betas_2)\n",
    "        f2=loglikelihood(y,y_hat_2)\n",
    "    return mu"
   ]
  },
  {
   "attachments": {
    "ga.png": {
     "image/png": "[encoded data removed]"
    }
   },
   "cell_type": "markdown",
   "id": "0ecf4363",
   "metadata": {},
   "source": [
    "### learn-logreg-GA\n",
    "![ga.png](attachment:ga.png)\n",
    "\n",
    "#### Ex1 :Optimize the loglikelihood function log(L cond) using Gradient Ascent algorithm. Implement (learn-logreg-GA). Choose i max between 100 to 1000.\n",
    "\n",
    "**You will use bolddriver as the step length controller.\n",
    "– In each iteration of the algorithm calculate |f (x i−1 ) − f (x i )| and at the end of learning, plot it\n",
    "against iteration number i. Explain the graph.**<br>\n",
    "**– In each iteration step also calculate logloss on test set (see ref:https://www.kaggle.\n",
    "com/wiki/LogarithmicLoss), plot it against iteration number i. Explain the graph.**\n",
    "\n",
    "1) defined a function \"learn_logreg_GA\" as per the above algorithm.<br>\n",
    "2) This function takes all splitted train and test data of x & y,iterations,steplength and epsilon as arguments<br>\n",
    "3) In each iteration, steplength is controlled by bolddriver fucntion\n",
    "4)betas are updated as per the given formula in algorithm.<br>\n",
    "5) y_hat and corresponding loglikelihood is predicted before and after updation of betas.<Br>\n",
    "6) Here loglikelihood is maximized in gradient ascent. <br>\n",
    "7) It will iterate untill there is no notable difference between new loglikelihhod and the old loglikelihood.<br>\n",
    "8) It will break the loop and return abs_loglikehood_dif,test_log_loss, once the condition satisifies<br>\n",
    "9) While iterating, absolute loglikelihood difference is appended to the corresponding list.<br>\n",
    "10) Logloss on test data is calculated using the  \"log_loss\" function created above which is the negative loglikelihood on test data.<br>"
   ]
  },
  {
   "cell_type": "code",
   "execution_count": 261,
   "id": "a756bad7",
   "metadata": {},
   "outputs": [],
   "source": [
    "def learn_logreg_GA(x_train,y_train,x_test,y_test,imax,mu,epsilon):\n",
    "    betas = np.zeros((x_train.shape[1],1))\n",
    "    abs_loglikehood_dif = []\n",
    "    test_log_loss = []\n",
    "    for i in range(imax):\n",
    "        yhat = y_hat(x_train,betas)\n",
    "        f1 = loglikelihood(y_train,yhat)\n",
    "        mu = bolddriver(x_train,y_train,betas,mu)\n",
    "        betas = betas + mu*grad(x_train,y_train,betas) \n",
    "        yhat = y_hat(x_train,betas)\n",
    "        f2 = loglikelihood(y_train,yhat)\n",
    "        abs_loglikehood_dif.append(abs(f1-f2))  \n",
    "        yhat_test = y_hat(x_test,betas)   \n",
    "        test_log_loss.append(log_loss(y_test,yhat_test)) \n",
    "        if f2-f1 < epsilon:\n",
    "            break    \n",
    "    return abs_loglikehood_dif,test_log_loss\n",
    "\n",
    "abs_loglikehood_dif,test_log_loss = learn_logreg_GA(x_train,y_train,x_test,y_test,1000,1e-3,1e-6)"
   ]
  },
  {
   "cell_type": "code",
   "execution_count": 262,
   "id": "dd59a075",
   "metadata": {},
   "outputs": [
    {
     "name": "stdout",
     "output_type": "stream",
     "text": [
      "mini test_logloss with GA method : 8.279075660902002\n"
     ]
    },
    {
     "data": {
      "image/png": "[encoded data removed]",
      "text/plain": [
       "<Figure size 720x288 with 2 Axes>"
      ]
     },
     "metadata": {
      "needs_background": "light"
     },
     "output_type": "display_data"
    }
   ],
   "source": [
    "fig, (ax1, ax2) = plt.subplots(1,2, figsize=(10, 4))\n",
    "fig.suptitle('Tic_Tac')\n",
    "ax1.plot(abs_loglikehood_dif)\n",
    "ax2.plot(test_log_loss)\n",
    "ax1.set_title('abs_loglikehood_dif')\n",
    "ax2.set_title(\"test_log_loss\")\n",
    "print('mini test_logloss with GA method :', min(test_log_loss))"
   ]
  },
  {
   "cell_type": "markdown",
   "id": "9d3caf55",
   "metadata": {},
   "source": [
    "**Comment**: In some iterations, the loss difference is getting high than that of previous iterations which may be due to local ectremities or step length influence. After about 400 iterations, it is becoming smooth.For the test logloss, it is taking more iterations i.e almost 1000 iterations to converge. I tried with different steplengths, step_length 1e-3 gave less test loss and better graphs."
   ]
  }
 ],
 "metadata": {
  "kernelspec": {
   "display_name": "Python 3 (ipykernel)",
   "language": "python",
   "name": "python3"
  },
  "language_info": {
   "codemirror_mode": {
    "name": "ipython",
    "version": 3
   },
   "file_extension": ".py",
   "mimetype": "text/x-python",
   "name": "python",
   "nbconvert_exporter": "python",
   "pygments_lexer": "ipython3",
   "version": "3.8.13"
  }
 },
 "nbformat": 4,
 "nbformat_minor": 5
}
